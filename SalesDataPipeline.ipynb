{
 "cells": [
  {
   "cell_type": "markdown",
   "metadata": {
    "application/vnd.databricks.v1+cell": {
     "cellMetadata": {},
     "inputWidgets": {},
     "nuid": "ae4a9559-73e1-4953-a136-4b46f7857733",
     "showTitle": false,
     "title": ""
    }
   },
   "source": [
    "# Data Pipeline using Databricks\n",
    "This note book demonstrates how to use Databricks to **build sales data ETL pipeline** that is **executed everyday** at 10 am."
   ]
  },
  {
   "cell_type": "markdown",
   "metadata": {
    "application/vnd.databricks.v1+cell": {
     "cellMetadata": {},
     "inputWidgets": {},
     "nuid": "0778b825-365c-42f3-b750-132b84bcf028",
     "showTitle": false,
     "title": ""
    }
   },
   "source": [
    "## Load Dataset\n",
    "An online-retail dataset, provided by databricks, was used for this demo. The dataset can be found in the following directory."
   ]
  },
  {
   "cell_type": "code",
   "execution_count": 0,
   "metadata": {
    "application/vnd.databricks.v1+cell": {
     "cellMetadata": {
      "byteLimit": 2048000,
      "rowLimit": 10000
     },
     "inputWidgets": {},
     "nuid": "4d202e37-2cc7-4c3e-be87-73ee676f8b23",
     "showTitle": false,
     "title": ""
    }
   },
   "outputs": [
    {
     "output_type": "display_data",
     "data": {
      "text/html": [
       "<style scoped>\n",
       "  .table-result-container {\n",
       "    max-height: 300px;\n",
       "    overflow: auto;\n",
       "  }\n",
       "  table, th, td {\n",
       "    border: 1px solid black;\n",
       "    border-collapse: collapse;\n",
       "  }\n",
       "  th, td {\n",
       "    padding: 5px;\n",
       "  }\n",
       "  th {\n",
       "    text-align: left;\n",
       "  }\n",
       "</style><div class='table-result-container'><table class='table-result'><thead style='background-color: white'><tr><th>path</th><th>name</th><th>size</th><th>modificationTime</th></tr></thead><tbody><tr><td>dbfs:/databricks-datasets/online_retail/data-001/data.csv</td><td>data.csv</td><td>5357240</td><td>1466388696000</td></tr></tbody></table></div>"
      ]
     },
     "metadata": {
      "application/vnd.databricks.v1+output": {
       "addedWidgets": {},
       "aggData": [],
       "aggError": "",
       "aggOverflow": false,
       "aggSchema": [],
       "aggSeriesLimitReached": false,
       "aggType": "",
       "arguments": {},
       "columnCustomDisplayInfos": {},
       "data": [
        [
         "dbfs:/databricks-datasets/online_retail/data-001/data.csv",
         "data.csv",
         5357240,
         1466388696000
        ]
       ],
       "datasetInfos": [],
       "dbfsResultPath": null,
       "isJsonSchema": true,
       "metadata": {
        "isDbfsCommandResult": false
       },
       "overflow": false,
       "plotOptions": {
        "customPlotOptions": {},
        "displayType": "table",
        "pivotAggregation": null,
        "pivotColumns": null,
        "xColumns": null,
        "yColumns": null
       },
       "removedWidgets": [],
       "schema": [
        {
         "metadata": "{}",
         "name": "path",
         "type": "\"string\""
        },
        {
         "metadata": "{}",
         "name": "name",
         "type": "\"string\""
        },
        {
         "metadata": "{}",
         "name": "size",
         "type": "\"long\""
        },
        {
         "metadata": "{}",
         "name": "modificationTime",
         "type": "\"long\""
        }
       ],
       "type": "table"
      }
     },
     "output_type": "display_data"
    }
   ],
   "source": [
    "%fs ls \"/databricks-datasets/online_retail/data-001\""
   ]
  },
  {
   "cell_type": "markdown",
   "metadata": {
    "application/vnd.databricks.v1+cell": {
     "cellMetadata": {},
     "inputWidgets": {},
     "nuid": "22962cdb-c65b-4803-a82e-5844b7f496fa",
     "showTitle": false,
     "title": ""
    }
   },
   "source": [
    "Using the _head_ command, some content of the csv file is displayed for later SQL table buildup."
   ]
  },
  {
   "cell_type": "code",
   "execution_count": 0,
   "metadata": {
    "application/vnd.databricks.v1+cell": {
     "cellMetadata": {
      "byteLimit": 2048000,
      "rowLimit": 10000
     },
     "inputWidgets": {},
     "nuid": "fcd3cbcf-9352-4d33-8263-7e66be67325a",
     "showTitle": false,
     "title": ""
    }
   },
   "outputs": [
    {
     "output_type": "display_data",
     "data": {
      "text/html": [
       "<style scoped>\n",
       "  .ansiout {\n",
       "    display: block;\n",
       "    unicode-bidi: embed;\n",
       "    white-space: pre-wrap;\n",
       "    word-wrap: break-word;\n",
       "    word-break: break-all;\n",
       "    font-family: \"Menlo\", \"Monaco\", \"Consolas\", \"Ubuntu Mono\", \"Source Code Pro\", monospace;\n",
       "    font-size: 13px;\n",
       "    color: #555;\n",
       "    margin-left: 4px;\n",
       "    line-height: 19px;\n",
       "  }\n",
       "</style>\n",
       "<div class=\"ansiout\">[Truncated to first 248 bytes]\n",
       "InvoiceNo,StockCode,Description,Quantity,InvoiceDate,UnitPrice,CustomerID,Country\r\n",
       "536365,85123A,WHITE HANGING HEART T-LIGHT HOLDER,6,12/1/10 8:26,2.55,17850,United Kingdom\r\n",
       "536365,71053,WHITE METAL LANTERN,6,12/1/10 8:26,3.39,17850,United Kingdom\r\n",
       "</div>"
      ]
     },
     "metadata": {
      "application/vnd.databricks.v1+output": {
       "addedWidgets": {},
       "arguments": {},
       "data": "<div class=\"ansiout\">[Truncated to first 248 bytes]\nInvoiceNo,StockCode,Description,Quantity,InvoiceDate,UnitPrice,CustomerID,Country\r\n536365,85123A,WHITE HANGING HEART T-LIGHT HOLDER,6,12/1/10 8:26,2.55,17850,United Kingdom\r\n536365,71053,WHITE METAL LANTERN,6,12/1/10 8:26,3.39,17850,United Kingdom\r\n</div>",
       "datasetInfos": [],
       "metadata": {
        "isDbfsCommandResult": false
       },
       "removedWidgets": [],
       "type": "html"
      }
     },
     "output_type": "display_data"
    }
   ],
   "source": [
    "%fs head --maxBytes=248 \"/databricks-datasets/online_retail/data-001/data.csv\""
   ]
  },
  {
   "cell_type": "markdown",
   "metadata": {
    "application/vnd.databricks.v1+cell": {
     "cellMetadata": {},
     "inputWidgets": {},
     "nuid": "352e733a-e3d9-43da-8348-0dc27c62e75e",
     "showTitle": false,
     "title": ""
    }
   },
   "source": [
    "Read in sales data from the cloud."
   ]
  },
  {
   "cell_type": "code",
   "execution_count": 0,
   "metadata": {
    "application/vnd.databricks.v1+cell": {
     "cellMetadata": {
      "byteLimit": 2048000,
      "rowLimit": 10000
     },
     "inputWidgets": {},
     "nuid": "6eb25c12-b3f1-4a92-8b35-20d0661aaf41",
     "showTitle": false,
     "title": ""
    }
   },
   "outputs": [
    {
     "output_type": "execute_result",
     "data": {
      "text/plain": [
       "<pyspark.sql.streaming.query.StreamingQuery at 0x7f80a8386d70>"
      ]
     },
     "execution_count": 3,
     "metadata": {},
     "output_type": "execute_result"
    }
   ],
   "source": [
    "from pyspark.sql.types import DoubleType, IntegerType, StringType, TimestampType, StructType, StructField\n",
    "\n",
    "# Define variables used in the code below\n",
    "file_path = \"/databricks-datasets/online_retail/data-001/\"\n",
    "table_name = \"raw_sales_data\"\n",
    "checkpoint_path = \"/tmp/pipeline_get_started/_checkpoint/sales_data\"\n",
    "\n",
    "schema = StructType(\n",
    "  [\n",
    "    StructField(\"InvoiceNo\", StringType(), True),\n",
    "    StructField(\"StockCode\", StringType(), True),\n",
    "    StructField(\"Description\", StringType(), True),\n",
    "    StructField(\"Quantity\", IntegerType(), True),\n",
    "    StructField(\"InvoiceDate\", StringType(), True),\n",
    "    StructField(\"UnitPrice\", DoubleType(), True),\n",
    "    StructField(\"CustomerID\", DoubleType(), True),\n",
    "    StructField(\"Country\", IntegerType(), True)\n",
    "  ]\n",
    ")\n",
    "\n",
    "(spark.readStream\n",
    "  .format(\"cloudFiles\")\n",
    "  .schema(schema)\n",
    "  .option(\"cloudFiles.format\", \"csv\")\n",
    "  .option(\"sep\",\",\")\n",
    "  .load(file_path)\n",
    "  .writeStream\n",
    "  .option(\"checkpointLocation\", checkpoint_path)\n",
    "  .trigger(availableNow=True)\n",
    "  .toTable(table_name)\n",
    ")"
   ]
  },
  {
   "cell_type": "markdown",
   "metadata": {
    "application/vnd.databricks.v1+cell": {
     "cellMetadata": {},
     "inputWidgets": {},
     "nuid": "88922879-1fa1-462d-ac4e-5cfa114a69f8",
     "showTitle": false,
     "title": ""
    }
   },
   "source": [
    "Create table and insert data."
   ]
  },
  {
   "cell_type": "code",
   "execution_count": 0,
   "metadata": {
    "application/vnd.databricks.v1+cell": {
     "cellMetadata": {
      "byteLimit": 2048000,
      "implicitDf": true,
      "rowLimit": 10000
     },
     "inputWidgets": {},
     "nuid": "0c652037-31b6-456b-a4fa-5b80f3ef65b5",
     "showTitle": false,
     "title": ""
    }
   },
   "outputs": [
    {
     "output_type": "display_data",
     "data": {
      "text/html": [
       "<style scoped>\n",
       "  .table-result-container {\n",
       "    max-height: 300px;\n",
       "    overflow: auto;\n",
       "  }\n",
       "  table, th, td {\n",
       "    border: 1px solid black;\n",
       "    border-collapse: collapse;\n",
       "  }\n",
       "  th, td {\n",
       "    padding: 5px;\n",
       "  }\n",
       "  th {\n",
       "    text-align: left;\n",
       "  }\n",
       "</style><div class='table-result-container'><table class='table-result'><thead style='background-color: white'><tr><th>num_affected_rows</th><th>num_inserted_rows</th></tr></thead><tbody><tr><td>65500</td><td>65500</td></tr></tbody></table></div>"
      ]
     },
     "metadata": {
      "application/vnd.databricks.v1+output": {
       "addedWidgets": {},
       "aggData": [],
       "aggError": "",
       "aggOverflow": false,
       "aggSchema": [],
       "aggSeriesLimitReached": false,
       "aggType": "",
       "arguments": {},
       "columnCustomDisplayInfos": {},
       "data": [
        [
         65500,
         65500
        ]
       ],
       "datasetInfos": [],
       "dbfsResultPath": null,
       "isJsonSchema": true,
       "metadata": {
        "dataframeName": "_sqldf",
        "executionCount": 4
       },
       "overflow": false,
       "plotOptions": {
        "customPlotOptions": {},
        "displayType": "table",
        "pivotAggregation": null,
        "pivotColumns": null,
        "xColumns": null,
        "yColumns": null
       },
       "removedWidgets": [],
       "schema": [
        {
         "metadata": "{}",
         "name": "num_affected_rows",
         "type": "\"long\""
        },
        {
         "metadata": "{}",
         "name": "num_inserted_rows",
         "type": "\"long\""
        }
       ],
       "type": "table"
      }
     },
     "output_type": "display_data"
    }
   ],
   "source": [
    "%sql\n",
    "CREATE OR REPLACE TABLE\n",
    "  sales_data (\n",
    "    InvoiceNo STRING,\n",
    "    StockCode STRING,\n",
    "    Description STRING,\n",
    "    Quantity DOUBLE,\n",
    "    InvoiceDate STRING,\n",
    "    UnitPrice DOUBLE,\n",
    "    CustomerID STRING,\n",
    "    Country DOUBLE);\n",
    "\n",
    "INSERT INTO\n",
    "  sales_data\n",
    "SELECT\n",
    "  InvoiceNo,\n",
    "  StockCode,\n",
    "  Description,\n",
    "  Quantity,\n",
    "  InvoiceDate,\n",
    "  UnitPrice,\n",
    "  CustomerID,\n",
    "  Country\n",
    "FROM\n",
    "  raw_sales_data"
   ]
  },
  {
   "cell_type": "markdown",
   "metadata": {
    "application/vnd.databricks.v1+cell": {
     "cellMetadata": {},
     "inputWidgets": {},
     "nuid": "fbef8178-378c-4d58-a259-5db0b94ce420",
     "showTitle": false,
     "title": ""
    }
   },
   "source": [
    "Select sales data of product of interest and saved as pyspark dataframe."
   ]
  },
  {
   "cell_type": "code",
   "execution_count": 0,
   "metadata": {
    "application/vnd.databricks.v1+cell": {
     "cellMetadata": {
      "byteLimit": 2048000,
      "implicitDf": true,
      "rowLimit": 10000
     },
     "inputWidgets": {},
     "nuid": "6656ec6b-d03c-4f54-90d2-fd102548eee2",
     "showTitle": false,
     "title": ""
    }
   },
   "outputs": [
    {
     "output_type": "display_data",
     "data": {
      "text/html": [
       "<style scoped>\n",
       "  .table-result-container {\n",
       "    max-height: 300px;\n",
       "    overflow: auto;\n",
       "  }\n",
       "  table, th, td {\n",
       "    border: 1px solid black;\n",
       "    border-collapse: collapse;\n",
       "  }\n",
       "  th, td {\n",
       "    padding: 5px;\n",
       "  }\n",
       "  th {\n",
       "    text-align: left;\n",
       "  }\n",
       "</style><div class='table-result-container'><table class='table-result'><thead style='background-color: white'><tr><th>InvoiceNo</th><th>StockCode</th><th>Description</th><th>Quantity</th><th>InvoiceDate</th><th>UnitPrice</th><th>CustomerID</th><th>Country</th></tr></thead><tbody><tr><td>536412</td><td>22570</td><td>FELTCRAFT CUSHION RABBIT</td><td>3.0</td><td>12/1/10 11:49</td><td>3.75</td><td>17920.0</td><td>null</td></tr><tr><td>536528</td><td>22570</td><td>FELTCRAFT CUSHION RABBIT</td><td>1.0</td><td>12/1/10 13:17</td><td>3.75</td><td>15525.0</td><td>null</td></tr><tr><td>536557</td><td>22570</td><td>FELTCRAFT CUSHION RABBIT</td><td>1.0</td><td>12/1/10 14:41</td><td>3.75</td><td>17841.0</td><td>null</td></tr><tr><td>536592</td><td>22570</td><td>FELTCRAFT CUSHION RABBIT</td><td>1.0</td><td>12/1/10 17:06</td><td>7.62</td><td>null</td><td>null</td></tr><tr><td>536624</td><td>22570</td><td>FELTCRAFT CUSHION RABBIT</td><td>4.0</td><td>12/2/10 10:45</td><td>3.75</td><td>13418.0</td><td>null</td></tr><tr><td>536754</td><td>22570</td><td>FELTCRAFT CUSHION RABBIT</td><td>1.0</td><td>12/2/10 14:09</td><td>3.75</td><td>14449.0</td><td>null</td></tr><tr><td>536793</td><td>22570</td><td>FELTCRAFT CUSHION RABBIT</td><td>4.0</td><td>12/2/10 15:39</td><td>3.75</td><td>16203.0</td><td>null</td></tr><tr><td>536808</td><td>22570</td><td>FELTCRAFT CUSHION RABBIT</td><td>12.0</td><td>12/2/10 16:46</td><td>3.75</td><td>17659.0</td><td>null</td></tr><tr><td>537030</td><td>22570</td><td>FELTCRAFT CUSHION RABBIT</td><td>8.0</td><td>12/3/10 16:44</td><td>3.75</td><td>16455.0</td><td>null</td></tr><tr><td>537034</td><td>22570</td><td>FELTCRAFT CUSHION RABBIT</td><td>8.0</td><td>12/3/10 17:20</td><td>3.75</td><td>13081.0</td><td>null</td></tr><tr><td>537134</td><td>22570</td><td>FELTCRAFT CUSHION RABBIT</td><td>10.0</td><td>12/5/10 12:34</td><td>3.75</td><td>16983.0</td><td>null</td></tr><tr><td>537196</td><td>22570</td><td>FELTCRAFT CUSHION RABBIT</td><td>1.0</td><td>12/5/10 13:55</td><td>3.75</td><td>15426.0</td><td>null</td></tr><tr><td>537196</td><td>22570</td><td>FELTCRAFT CUSHION RABBIT</td><td>1.0</td><td>12/5/10 13:55</td><td>3.75</td><td>15426.0</td><td>null</td></tr><tr><td>537202</td><td>22570</td><td>FELTCRAFT CUSHION RABBIT</td><td>1.0</td><td>12/5/10 14:25</td><td>3.75</td><td>14506.0</td><td>null</td></tr><tr><td>537209</td><td>22570</td><td>FELTCRAFT CUSHION RABBIT</td><td>1.0</td><td>12/5/10 15:12</td><td>3.75</td><td>14606.0</td><td>null</td></tr><tr><td>537237</td><td>22570</td><td>FELTCRAFT CUSHION RABBIT</td><td>2.0</td><td>12/6/10 9:58</td><td>7.62</td><td>null</td><td>null</td></tr><tr><td>537240</td><td>22570</td><td>FELTCRAFT CUSHION RABBIT</td><td>1.0</td><td>12/6/10 10:08</td><td>7.62</td><td>null</td><td>null</td></tr><tr><td>537254</td><td>22570</td><td>FELTCRAFT CUSHION RABBIT</td><td>3.0</td><td>12/6/10 11:01</td><td>3.75</td><td>15898.0</td><td>null</td></tr><tr><td>537366</td><td>22570</td><td>FELTCRAFT CUSHION RABBIT</td><td>13.0</td><td>12/6/10 12:39</td><td>3.75</td><td>14085.0</td><td>null</td></tr><tr><td>537368</td><td>22570</td><td>FELTCRAFT CUSHION RABBIT</td><td>8.0</td><td>12/6/10 12:40</td><td>3.75</td><td>14911.0</td><td>null</td></tr><tr><td>537370</td><td>22570</td><td>FELTCRAFT CUSHION RABBIT</td><td>5.0</td><td>12/6/10 12:44</td><td>3.75</td><td>13155.0</td><td>null</td></tr><tr><td>537376</td><td>22570</td><td>FELTCRAFT CUSHION RABBIT</td><td>24.0</td><td>12/6/10 12:59</td><td>3.39</td><td>16722.0</td><td>null</td></tr><tr><td>537418</td><td>22570</td><td>FELTCRAFT CUSHION RABBIT</td><td>1.0</td><td>12/6/10 15:13</td><td>3.75</td><td>17884.0</td><td>null</td></tr><tr><td>537421</td><td>22570</td><td>FELTCRAFT CUSHION RABBIT</td><td>2.0</td><td>12/6/10 15:25</td><td>3.75</td><td>17218.0</td><td>null</td></tr><tr><td>537434</td><td>22570</td><td>FELTCRAFT CUSHION RABBIT</td><td>2.0</td><td>12/6/10 16:57</td><td>7.62</td><td>null</td><td>null</td></tr><tr><td>537447</td><td>22570</td><td>FELTCRAFT CUSHION RABBIT</td><td>8.0</td><td>12/7/10 9:21</td><td>3.75</td><td>13963.0</td><td>null</td></tr><tr><td>537464</td><td>22570</td><td>FELTCRAFT CUSHION RABBIT</td><td>4.0</td><td>12/7/10 10:14</td><td>3.75</td><td>14907.0</td><td>null</td></tr><tr><td>537467</td><td>22570</td><td>FELTCRAFT CUSHION RABBIT</td><td>2.0</td><td>12/7/10 10:36</td><td>3.75</td><td>16059.0</td><td>null</td></tr><tr><td>537604</td><td>22570</td><td>FELTCRAFT CUSHION RABBIT</td><td>4.0</td><td>12/7/10 13:01</td><td>3.75</td><td>13488.0</td><td>null</td></tr><tr><td>537638</td><td>22570</td><td>FELTCRAFT CUSHION RABBIT</td><td>2.0</td><td>12/7/10 15:28</td><td>7.62</td><td>null</td><td>null</td></tr><tr><td>537666</td><td>22570</td><td>FELTCRAFT CUSHION RABBIT</td><td>1.0</td><td>12/7/10 18:36</td><td>7.62</td><td>null</td><td>null</td></tr><tr><td>537764</td><td>22570</td><td>FELTCRAFT CUSHION RABBIT</td><td>1.0</td><td>12/8/10 12:06</td><td>3.75</td><td>16893.0</td><td>null</td></tr><tr><td>537769</td><td>22570</td><td>FELTCRAFT CUSHION RABBIT</td><td>1.0</td><td>12/8/10 12:17</td><td>3.75</td><td>15021.0</td><td>null</td></tr><tr><td>537773</td><td>22570</td><td>FELTCRAFT CUSHION RABBIT</td><td>1.0</td><td>12/8/10 12:36</td><td>3.75</td><td>16016.0</td><td>null</td></tr><tr><td>537781</td><td>22570</td><td>FELTCRAFT CUSHION RABBIT</td><td>1.0</td><td>12/8/10 12:46</td><td>3.75</td><td>17341.0</td><td>null</td></tr><tr><td>537829</td><td>22570</td><td>FELTCRAFT CUSHION RABBIT</td><td>4.0</td><td>12/8/10 14:46</td><td>3.75</td><td>15498.0</td><td>null</td></tr><tr><td>537880</td><td>22570</td><td>FELTCRAFT CUSHION RABBIT</td><td>8.0</td><td>12/9/10 9:14</td><td>3.75</td><td>12963.0</td><td>null</td></tr><tr><td>538069</td><td>22570</td><td>FELTCRAFT CUSHION RABBIT</td><td>1.0</td><td>12/9/10 14:08</td><td>3.75</td><td>16795.0</td><td>null</td></tr><tr><td>538077</td><td>22570</td><td>FELTCRAFT CUSHION RABBIT</td><td>1.0</td><td>12/9/10 14:19</td><td>3.75</td><td>14667.0</td><td>null</td></tr><tr><td>538113</td><td>22570</td><td>FELTCRAFT CUSHION RABBIT</td><td>4.0</td><td>12/9/10 15:29</td><td>3.75</td><td>15811.0</td><td>null</td></tr><tr><td>538156</td><td>22570</td><td>FELTCRAFT CUSHION RABBIT</td><td>3.0</td><td>12/9/10 16:53</td><td>3.75</td><td>15555.0</td><td>null</td></tr><tr><td>538163</td><td>22570</td><td>FELTCRAFT CUSHION RABBIT</td><td>1.0</td><td>12/9/10 17:27</td><td>3.75</td><td>17841.0</td><td>null</td></tr><tr><td>538177</td><td>22570</td><td>FELTCRAFT CUSHION RABBIT</td><td>2.0</td><td>12/10/10 9:51</td><td>7.62</td><td>null</td><td>null</td></tr><tr><td>538187</td><td>22570</td><td>FELTCRAFT CUSHION RABBIT</td><td>4.0</td><td>12/10/10 10:27</td><td>3.75</td><td>16499.0</td><td>null</td></tr><tr><td>538198</td><td>22570</td><td>FELTCRAFT CUSHION RABBIT</td><td>4.0</td><td>12/10/10 11:01</td><td>3.75</td><td>17827.0</td><td>null</td></tr><tr><td>538208</td><td>22570</td><td>FELTCRAFT CUSHION RABBIT</td><td>1.0</td><td>12/10/10 11:39</td><td>3.75</td><td>14037.0</td><td>null</td></tr><tr><td>538250</td><td>22570</td><td>FELTCRAFT CUSHION RABBIT</td><td>2.0</td><td>12/10/10 12:20</td><td>3.75</td><td>18118.0</td><td>null</td></tr><tr><td>538349</td><td>22570</td><td>FELTCRAFT CUSHION RABBIT</td><td>2.0</td><td>12/10/10 14:59</td><td>7.62</td><td>null</td><td>null</td></tr><tr><td>538371</td><td>22570</td><td>FELTCRAFT CUSHION RABBIT</td><td>1.0</td><td>12/12/10 11:07</td><td>3.75</td><td>15570.0</td><td>null</td></tr><tr><td>538382</td><td>22570</td><td>FELTCRAFT CUSHION RABBIT</td><td>3.0</td><td>12/12/10 11:37</td><td>3.75</td><td>17218.0</td><td>null</td></tr><tr><td>538517</td><td>22570</td><td>FELTCRAFT CUSHION RABBIT</td><td>1.0</td><td>12/12/10 16:05</td><td>3.75</td><td>17618.0</td><td>null</td></tr><tr><td>538517</td><td>22570</td><td>FELTCRAFT CUSHION RABBIT</td><td>1.0</td><td>12/12/10 16:05</td><td>3.75</td><td>17618.0</td><td>null</td></tr><tr><td>538517</td><td>22570</td><td>FELTCRAFT CUSHION RABBIT</td><td>1.0</td><td>12/12/10 16:05</td><td>3.75</td><td>17618.0</td><td>null</td></tr><tr><td>538524</td><td>22570</td><td>FELTCRAFT CUSHION RABBIT</td><td>1.0</td><td>12/13/10 9:35</td><td>7.62</td><td>null</td><td>null</td></tr><tr><td>538566</td><td>22570</td><td>FELTCRAFT CUSHION RABBIT</td><td>1.0</td><td>12/13/10 11:21</td><td>7.62</td><td>null</td><td>null</td></tr><tr><td>538890</td><td>22570</td><td>FELTCRAFT CUSHION RABBIT</td><td>2.0</td><td>12/14/10 16:39</td><td>3.75</td><td>12867.0</td><td>null</td></tr><tr><td>539016</td><td>22570</td><td>FELTCRAFT CUSHION RABBIT</td><td>8.0</td><td>12/15/10 13:49</td><td>3.75</td><td>13418.0</td><td>null</td></tr><tr><td>539038</td><td>22570</td><td>FELTCRAFT CUSHION RABBIT</td><td>4.0</td><td>12/15/10 14:45</td><td>3.75</td><td>15641.0</td><td>null</td></tr><tr><td>539215</td><td>22570</td><td>FELTCRAFT CUSHION RABBIT</td><td>1.0</td><td>12/16/10 12:42</td><td>3.75</td><td>15574.0</td><td>null</td></tr><tr><td>539225</td><td>22570</td><td>FELTCRAFT CUSHION RABBIT</td><td>16.0</td><td>12/16/10 13:02</td><td>3.75</td><td>15379.0</td><td>null</td></tr><tr><td>539285</td><td>22570</td><td>FELTCRAFT CUSHION RABBIT</td><td>4.0</td><td>12/16/10 15:59</td><td>3.75</td><td>15366.0</td><td>null</td></tr><tr><td>539436</td><td>22570</td><td>FELTCRAFT CUSHION RABBIT</td><td>1.0</td><td>12/17/10 14:49</td><td>7.62</td><td>null</td><td>null</td></tr><tr><td>539437</td><td>22570</td><td>FELTCRAFT CUSHION RABBIT</td><td>1.0</td><td>12/17/10 14:54</td><td>7.62</td><td>null</td><td>null</td></tr><tr><td>539473</td><td>22570</td><td>FELTCRAFT CUSHION RABBIT</td><td>4.0</td><td>12/19/10 14:24</td><td>3.75</td><td>14911.0</td><td>null</td></tr><tr><td>539708</td><td>22570</td><td>FELTCRAFT CUSHION RABBIT</td><td>1.0</td><td>12/21/10 12:18</td><td>7.62</td><td>null</td><td>null</td></tr><tr><td>539731</td><td>22570</td><td>FELTCRAFT CUSHION RABBIT</td><td>24.0</td><td>12/21/10 15:05</td><td>3.39</td><td>14646.0</td><td>null</td></tr><tr><td>539988</td><td>22570</td><td>FELTCRAFT CUSHION RABBIT</td><td>1.0</td><td>12/23/10 16:06</td><td>3.75</td><td>18116.0</td><td>null</td></tr><tr><td>540168</td><td>22570</td><td>FELTCRAFT CUSHION RABBIT</td><td>2.0</td><td>1/5/11 12:15</td><td>3.75</td><td>13715.0</td><td>null</td></tr><tr><td>540187</td><td>22570</td><td>FELTCRAFT CUSHION RABBIT</td><td>8.0</td><td>1/5/11 13:53</td><td>3.75</td><td>15358.0</td><td>null</td></tr><tr><td>540507</td><td>22570</td><td>FELTCRAFT CUSHION RABBIT</td><td>192.0</td><td>1/9/11 11:20</td><td>3.39</td><td>12939.0</td><td>null</td></tr><tr><td>540526</td><td>22570</td><td>FELTCRAFT CUSHION RABBIT</td><td>1.0</td><td>1/9/11 13:41</td><td>3.75</td><td>14606.0</td><td>null</td></tr><tr><td>540644</td><td>22570</td><td>FELTCRAFT CUSHION RABBIT</td><td>4.0</td><td>1/10/11 14:16</td><td>3.75</td><td>16303.0</td><td>null</td></tr><tr><td>540672</td><td>22570</td><td>FELTCRAFT CUSHION RABBIT</td><td>8.0</td><td>1/10/11 15:51</td><td>3.75</td><td>15281.0</td><td>null</td></tr><tr><td>540859</td><td>22570</td><td>FELTCRAFT CUSHION RABBIT</td><td>1.0</td><td>1/12/11 10:58</td><td>3.75</td><td>17965.0</td><td>null</td></tr><tr><td>541038</td><td>22570</td><td>FELTCRAFT CUSHION RABBIT</td><td>2.0</td><td>1/13/11 12:10</td><td>3.75</td><td>16395.0</td><td>null</td></tr><tr><td>541104</td><td>22570</td><td>FELTCRAFT CUSHION RABBIT</td><td>1.0</td><td>1/13/11 14:29</td><td>7.46</td><td>null</td><td>null</td></tr><tr><td>541263</td><td>22570</td><td>FELTCRAFT CUSHION RABBIT</td><td>12.0</td><td>1/16/11 16:10</td><td>3.75</td><td>16843.0</td><td>null</td></tr><tr><td>541273</td><td>22570</td><td>FELTCRAFT CUSHION RABBIT</td><td>8.0</td><td>1/17/11 11:21</td><td>3.75</td><td>13155.0</td><td>null</td></tr><tr><td>541423</td><td>22570</td><td>FELTCRAFT CUSHION RABBIT</td><td>2.0</td><td>1/17/11 17:54</td><td>7.46</td><td>null</td><td>null</td></tr><tr><td>541424</td><td>22570</td><td>FELTCRAFT CUSHION RABBIT</td><td>1.0</td><td>1/17/11 17:57</td><td>7.46</td><td>null</td><td>null</td></tr><tr><td>541615</td><td>22570</td><td>FELTCRAFT CUSHION RABBIT</td><td>3.0</td><td>1/20/11 10:43</td><td>3.75</td><td>16395.0</td><td>null</td></tr><tr><td>541670</td><td>22570</td><td>FELTCRAFT CUSHION RABBIT</td><td>32.0</td><td>1/20/11 12:34</td><td>3.39</td><td>14911.0</td><td>null</td></tr><tr><td>541683</td><td>22570</td><td>FELTCRAFT CUSHION RABBIT</td><td>3.0</td><td>1/20/11 15:01</td><td>3.75</td><td>14085.0</td><td>null</td></tr></tbody></table></div>"
      ]
     },
     "metadata": {
      "application/vnd.databricks.v1+output": {
       "addedWidgets": {},
       "aggData": [],
       "aggError": "",
       "aggOverflow": false,
       "aggSchema": [],
       "aggSeriesLimitReached": false,
       "aggType": "",
       "arguments": {},
       "columnCustomDisplayInfos": {},
       "data": [
        [
         "536412",
         "22570",
         "FELTCRAFT CUSHION RABBIT",
         3.0,
         "12/1/10 11:49",
         3.75,
         "17920.0",
         null
        ],
        [
         "536528",
         "22570",
         "FELTCRAFT CUSHION RABBIT",
         1.0,
         "12/1/10 13:17",
         3.75,
         "15525.0",
         null
        ],
        [
         "536557",
         "22570",
         "FELTCRAFT CUSHION RABBIT",
         1.0,
         "12/1/10 14:41",
         3.75,
         "17841.0",
         null
        ],
        [
         "536592",
         "22570",
         "FELTCRAFT CUSHION RABBIT",
         1.0,
         "12/1/10 17:06",
         7.62,
         null,
         null
        ],
        [
         "536624",
         "22570",
         "FELTCRAFT CUSHION RABBIT",
         4.0,
         "12/2/10 10:45",
         3.75,
         "13418.0",
         null
        ],
        [
         "536754",
         "22570",
         "FELTCRAFT CUSHION RABBIT",
         1.0,
         "12/2/10 14:09",
         3.75,
         "14449.0",
         null
        ],
        [
         "536793",
         "22570",
         "FELTCRAFT CUSHION RABBIT",
         4.0,
         "12/2/10 15:39",
         3.75,
         "16203.0",
         null
        ],
        [
         "536808",
         "22570",
         "FELTCRAFT CUSHION RABBIT",
         12.0,
         "12/2/10 16:46",
         3.75,
         "17659.0",
         null
        ],
        [
         "537030",
         "22570",
         "FELTCRAFT CUSHION RABBIT",
         8.0,
         "12/3/10 16:44",
         3.75,
         "16455.0",
         null
        ],
        [
         "537034",
         "22570",
         "FELTCRAFT CUSHION RABBIT",
         8.0,
         "12/3/10 17:20",
         3.75,
         "13081.0",
         null
        ],
        [
         "537134",
         "22570",
         "FELTCRAFT CUSHION RABBIT",
         10.0,
         "12/5/10 12:34",
         3.75,
         "16983.0",
         null
        ],
        [
         "537196",
         "22570",
         "FELTCRAFT CUSHION RABBIT",
         1.0,
         "12/5/10 13:55",
         3.75,
         "15426.0",
         null
        ],
        [
         "537196",
         "22570",
         "FELTCRAFT CUSHION RABBIT",
         1.0,
         "12/5/10 13:55",
         3.75,
         "15426.0",
         null
        ],
        [
         "537202",
         "22570",
         "FELTCRAFT CUSHION RABBIT",
         1.0,
         "12/5/10 14:25",
         3.75,
         "14506.0",
         null
        ],
        [
         "537209",
         "22570",
         "FELTCRAFT CUSHION RABBIT",
         1.0,
         "12/5/10 15:12",
         3.75,
         "14606.0",
         null
        ],
        [
         "537237",
         "22570",
         "FELTCRAFT CUSHION RABBIT",
         2.0,
         "12/6/10 9:58",
         7.62,
         null,
         null
        ],
        [
         "537240",
         "22570",
         "FELTCRAFT CUSHION RABBIT",
         1.0,
         "12/6/10 10:08",
         7.62,
         null,
         null
        ],
        [
         "537254",
         "22570",
         "FELTCRAFT CUSHION RABBIT",
         3.0,
         "12/6/10 11:01",
         3.75,
         "15898.0",
         null
        ],
        [
         "537366",
         "22570",
         "FELTCRAFT CUSHION RABBIT",
         13.0,
         "12/6/10 12:39",
         3.75,
         "14085.0",
         null
        ],
        [
         "537368",
         "22570",
         "FELTCRAFT CUSHION RABBIT",
         8.0,
         "12/6/10 12:40",
         3.75,
         "14911.0",
         null
        ],
        [
         "537370",
         "22570",
         "FELTCRAFT CUSHION RABBIT",
         5.0,
         "12/6/10 12:44",
         3.75,
         "13155.0",
         null
        ],
        [
         "537376",
         "22570",
         "FELTCRAFT CUSHION RABBIT",
         24.0,
         "12/6/10 12:59",
         3.39,
         "16722.0",
         null
        ],
        [
         "537418",
         "22570",
         "FELTCRAFT CUSHION RABBIT",
         1.0,
         "12/6/10 15:13",
         3.75,
         "17884.0",
         null
        ],
        [
         "537421",
         "22570",
         "FELTCRAFT CUSHION RABBIT",
         2.0,
         "12/6/10 15:25",
         3.75,
         "17218.0",
         null
        ],
        [
         "537434",
         "22570",
         "FELTCRAFT CUSHION RABBIT",
         2.0,
         "12/6/10 16:57",
         7.62,
         null,
         null
        ],
        [
         "537447",
         "22570",
         "FELTCRAFT CUSHION RABBIT",
         8.0,
         "12/7/10 9:21",
         3.75,
         "13963.0",
         null
        ],
        [
         "537464",
         "22570",
         "FELTCRAFT CUSHION RABBIT",
         4.0,
         "12/7/10 10:14",
         3.75,
         "14907.0",
         null
        ],
        [
         "537467",
         "22570",
         "FELTCRAFT CUSHION RABBIT",
         2.0,
         "12/7/10 10:36",
         3.75,
         "16059.0",
         null
        ],
        [
         "537604",
         "22570",
         "FELTCRAFT CUSHION RABBIT",
         4.0,
         "12/7/10 13:01",
         3.75,
         "13488.0",
         null
        ],
        [
         "537638",
         "22570",
         "FELTCRAFT CUSHION RABBIT",
         2.0,
         "12/7/10 15:28",
         7.62,
         null,
         null
        ],
        [
         "537666",
         "22570",
         "FELTCRAFT CUSHION RABBIT",
         1.0,
         "12/7/10 18:36",
         7.62,
         null,
         null
        ],
        [
         "537764",
         "22570",
         "FELTCRAFT CUSHION RABBIT",
         1.0,
         "12/8/10 12:06",
         3.75,
         "16893.0",
         null
        ],
        [
         "537769",
         "22570",
         "FELTCRAFT CUSHION RABBIT",
         1.0,
         "12/8/10 12:17",
         3.75,
         "15021.0",
         null
        ],
        [
         "537773",
         "22570",
         "FELTCRAFT CUSHION RABBIT",
         1.0,
         "12/8/10 12:36",
         3.75,
         "16016.0",
         null
        ],
        [
         "537781",
         "22570",
         "FELTCRAFT CUSHION RABBIT",
         1.0,
         "12/8/10 12:46",
         3.75,
         "17341.0",
         null
        ],
        [
         "537829",
         "22570",
         "FELTCRAFT CUSHION RABBIT",
         4.0,
         "12/8/10 14:46",
         3.75,
         "15498.0",
         null
        ],
        [
         "537880",
         "22570",
         "FELTCRAFT CUSHION RABBIT",
         8.0,
         "12/9/10 9:14",
         3.75,
         "12963.0",
         null
        ],
        [
         "538069",
         "22570",
         "FELTCRAFT CUSHION RABBIT",
         1.0,
         "12/9/10 14:08",
         3.75,
         "16795.0",
         null
        ],
        [
         "538077",
         "22570",
         "FELTCRAFT CUSHION RABBIT",
         1.0,
         "12/9/10 14:19",
         3.75,
         "14667.0",
         null
        ],
        [
         "538113",
         "22570",
         "FELTCRAFT CUSHION RABBIT",
         4.0,
         "12/9/10 15:29",
         3.75,
         "15811.0",
         null
        ],
        [
         "538156",
         "22570",
         "FELTCRAFT CUSHION RABBIT",
         3.0,
         "12/9/10 16:53",
         3.75,
         "15555.0",
         null
        ],
        [
         "538163",
         "22570",
         "FELTCRAFT CUSHION RABBIT",
         1.0,
         "12/9/10 17:27",
         3.75,
         "17841.0",
         null
        ],
        [
         "538177",
         "22570",
         "FELTCRAFT CUSHION RABBIT",
         2.0,
         "12/10/10 9:51",
         7.62,
         null,
         null
        ],
        [
         "538187",
         "22570",
         "FELTCRAFT CUSHION RABBIT",
         4.0,
         "12/10/10 10:27",
         3.75,
         "16499.0",
         null
        ],
        [
         "538198",
         "22570",
         "FELTCRAFT CUSHION RABBIT",
         4.0,
         "12/10/10 11:01",
         3.75,
         "17827.0",
         null
        ],
        [
         "538208",
         "22570",
         "FELTCRAFT CUSHION RABBIT",
         1.0,
         "12/10/10 11:39",
         3.75,
         "14037.0",
         null
        ],
        [
         "538250",
         "22570",
         "FELTCRAFT CUSHION RABBIT",
         2.0,
         "12/10/10 12:20",
         3.75,
         "18118.0",
         null
        ],
        [
         "538349",
         "22570",
         "FELTCRAFT CUSHION RABBIT",
         2.0,
         "12/10/10 14:59",
         7.62,
         null,
         null
        ],
        [
         "538371",
         "22570",
         "FELTCRAFT CUSHION RABBIT",
         1.0,
         "12/12/10 11:07",
         3.75,
         "15570.0",
         null
        ],
        [
         "538382",
         "22570",
         "FELTCRAFT CUSHION RABBIT",
         3.0,
         "12/12/10 11:37",
         3.75,
         "17218.0",
         null
        ],
        [
         "538517",
         "22570",
         "FELTCRAFT CUSHION RABBIT",
         1.0,
         "12/12/10 16:05",
         3.75,
         "17618.0",
         null
        ],
        [
         "538517",
         "22570",
         "FELTCRAFT CUSHION RABBIT",
         1.0,
         "12/12/10 16:05",
         3.75,
         "17618.0",
         null
        ],
        [
         "538517",
         "22570",
         "FELTCRAFT CUSHION RABBIT",
         1.0,
         "12/12/10 16:05",
         3.75,
         "17618.0",
         null
        ],
        [
         "538524",
         "22570",
         "FELTCRAFT CUSHION RABBIT",
         1.0,
         "12/13/10 9:35",
         7.62,
         null,
         null
        ],
        [
         "538566",
         "22570",
         "FELTCRAFT CUSHION RABBIT",
         1.0,
         "12/13/10 11:21",
         7.62,
         null,
         null
        ],
        [
         "538890",
         "22570",
         "FELTCRAFT CUSHION RABBIT",
         2.0,
         "12/14/10 16:39",
         3.75,
         "12867.0",
         null
        ],
        [
         "539016",
         "22570",
         "FELTCRAFT CUSHION RABBIT",
         8.0,
         "12/15/10 13:49",
         3.75,
         "13418.0",
         null
        ],
        [
         "539038",
         "22570",
         "FELTCRAFT CUSHION RABBIT",
         4.0,
         "12/15/10 14:45",
         3.75,
         "15641.0",
         null
        ],
        [
         "539215",
         "22570",
         "FELTCRAFT CUSHION RABBIT",
         1.0,
         "12/16/10 12:42",
         3.75,
         "15574.0",
         null
        ],
        [
         "539225",
         "22570",
         "FELTCRAFT CUSHION RABBIT",
         16.0,
         "12/16/10 13:02",
         3.75,
         "15379.0",
         null
        ],
        [
         "539285",
         "22570",
         "FELTCRAFT CUSHION RABBIT",
         4.0,
         "12/16/10 15:59",
         3.75,
         "15366.0",
         null
        ],
        [
         "539436",
         "22570",
         "FELTCRAFT CUSHION RABBIT",
         1.0,
         "12/17/10 14:49",
         7.62,
         null,
         null
        ],
        [
         "539437",
         "22570",
         "FELTCRAFT CUSHION RABBIT",
         1.0,
         "12/17/10 14:54",
         7.62,
         null,
         null
        ],
        [
         "539473",
         "22570",
         "FELTCRAFT CUSHION RABBIT",
         4.0,
         "12/19/10 14:24",
         3.75,
         "14911.0",
         null
        ],
        [
         "539708",
         "22570",
         "FELTCRAFT CUSHION RABBIT",
         1.0,
         "12/21/10 12:18",
         7.62,
         null,
         null
        ],
        [
         "539731",
         "22570",
         "FELTCRAFT CUSHION RABBIT",
         24.0,
         "12/21/10 15:05",
         3.39,
         "14646.0",
         null
        ],
        [
         "539988",
         "22570",
         "FELTCRAFT CUSHION RABBIT",
         1.0,
         "12/23/10 16:06",
         3.75,
         "18116.0",
         null
        ],
        [
         "540168",
         "22570",
         "FELTCRAFT CUSHION RABBIT",
         2.0,
         "1/5/11 12:15",
         3.75,
         "13715.0",
         null
        ],
        [
         "540187",
         "22570",
         "FELTCRAFT CUSHION RABBIT",
         8.0,
         "1/5/11 13:53",
         3.75,
         "15358.0",
         null
        ],
        [
         "540507",
         "22570",
         "FELTCRAFT CUSHION RABBIT",
         192.0,
         "1/9/11 11:20",
         3.39,
         "12939.0",
         null
        ],
        [
         "540526",
         "22570",
         "FELTCRAFT CUSHION RABBIT",
         1.0,
         "1/9/11 13:41",
         3.75,
         "14606.0",
         null
        ],
        [
         "540644",
         "22570",
         "FELTCRAFT CUSHION RABBIT",
         4.0,
         "1/10/11 14:16",
         3.75,
         "16303.0",
         null
        ],
        [
         "540672",
         "22570",
         "FELTCRAFT CUSHION RABBIT",
         8.0,
         "1/10/11 15:51",
         3.75,
         "15281.0",
         null
        ],
        [
         "540859",
         "22570",
         "FELTCRAFT CUSHION RABBIT",
         1.0,
         "1/12/11 10:58",
         3.75,
         "17965.0",
         null
        ],
        [
         "541038",
         "22570",
         "FELTCRAFT CUSHION RABBIT",
         2.0,
         "1/13/11 12:10",
         3.75,
         "16395.0",
         null
        ],
        [
         "541104",
         "22570",
         "FELTCRAFT CUSHION RABBIT",
         1.0,
         "1/13/11 14:29",
         7.46,
         null,
         null
        ],
        [
         "541263",
         "22570",
         "FELTCRAFT CUSHION RABBIT",
         12.0,
         "1/16/11 16:10",
         3.75,
         "16843.0",
         null
        ],
        [
         "541273",
         "22570",
         "FELTCRAFT CUSHION RABBIT",
         8.0,
         "1/17/11 11:21",
         3.75,
         "13155.0",
         null
        ],
        [
         "541423",
         "22570",
         "FELTCRAFT CUSHION RABBIT",
         2.0,
         "1/17/11 17:54",
         7.46,
         null,
         null
        ],
        [
         "541424",
         "22570",
         "FELTCRAFT CUSHION RABBIT",
         1.0,
         "1/17/11 17:57",
         7.46,
         null,
         null
        ],
        [
         "541615",
         "22570",
         "FELTCRAFT CUSHION RABBIT",
         3.0,
         "1/20/11 10:43",
         3.75,
         "16395.0",
         null
        ],
        [
         "541670",
         "22570",
         "FELTCRAFT CUSHION RABBIT",
         32.0,
         "1/20/11 12:34",
         3.39,
         "14911.0",
         null
        ],
        [
         "541683",
         "22570",
         "FELTCRAFT CUSHION RABBIT",
         3.0,
         "1/20/11 15:01",
         3.75,
         "14085.0",
         null
        ]
       ],
       "datasetInfos": [],
       "dbfsResultPath": null,
       "isJsonSchema": true,
       "metadata": {
        "dataframeName": "_sqldf",
        "executionCount": 5
       },
       "overflow": false,
       "plotOptions": {
        "customPlotOptions": {},
        "displayType": "table",
        "pivotAggregation": null,
        "pivotColumns": null,
        "xColumns": null,
        "yColumns": null
       },
       "removedWidgets": [],
       "schema": [
        {
         "metadata": "{}",
         "name": "InvoiceNo",
         "type": "\"string\""
        },
        {
         "metadata": "{}",
         "name": "StockCode",
         "type": "\"string\""
        },
        {
         "metadata": "{}",
         "name": "Description",
         "type": "\"string\""
        },
        {
         "metadata": "{}",
         "name": "Quantity",
         "type": "\"double\""
        },
        {
         "metadata": "{}",
         "name": "InvoiceDate",
         "type": "\"string\""
        },
        {
         "metadata": "{}",
         "name": "UnitPrice",
         "type": "\"double\""
        },
        {
         "metadata": "{}",
         "name": "CustomerID",
         "type": "\"string\""
        },
        {
         "metadata": "{}",
         "name": "Country",
         "type": "\"double\""
        }
       ],
       "type": "table"
      }
     },
     "output_type": "display_data"
    }
   ],
   "source": [
    "%sql\n",
    "SELECT *\n",
    "FROM\n",
    "  sales_data\n",
    "WHERE\n",
    "  Description = 'FELTCRAFT CUSHION RABBIT'"
   ]
  }
 ],
 "metadata": {
  "application/vnd.databricks.v1+notebook": {
   "dashboards": [],
   "language": "python",
   "notebookMetadata": {
    "mostRecentlyExecutedCommandWithImplicitDF": {
     "commandId": 1574786128338116,
     "dataframes": [
      "_sqldf"
     ]
    },
    "pythonIndentUnit": 4
   },
   "notebookName": "Construct Automatically Updated Sales Dashboard",
   "widgets": {}
  }
 },
 "nbformat": 4,
 "nbformat_minor": 0
}
